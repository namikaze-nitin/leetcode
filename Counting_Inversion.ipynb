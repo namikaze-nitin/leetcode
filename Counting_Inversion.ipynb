{
  "nbformat": 4,
  "nbformat_minor": 0,
  "metadata": {
    "colab": {
      "name": "Counting_Inversion.ipynb",
      "provenance": [],
      "authorship_tag": "ABX9TyMduTzhzcM9+Sbur8udn42n",
      "include_colab_link": true
    },
    "kernelspec": {
      "name": "python3",
      "display_name": "Python 3"
    }
  },
  "cells": [
    {
      "cell_type": "markdown",
      "metadata": {
        "id": "view-in-github",
        "colab_type": "text"
      },
      "source": [
        "<a href=\"https://colab.research.google.com/github/weasel-codes/leetcode/blob/master/Counting_Inversion.ipynb\" target=\"_parent\"><img src=\"https://colab.research.google.com/assets/colab-badge.svg\" alt=\"Open In Colab\"/></a>"
      ]
    },
    {
      "cell_type": "markdown",
      "metadata": {
        "id": "8QQHfEubNsTQ"
      },
      "source": [
        "# Number of inversion in a list of integers\n",
        "## Iterative Approach"
      ]
    },
    {
      "cell_type": "code",
      "metadata": {
        "id": "c4UdCLOZNoqR",
        "outputId": "9cdebf02-6da5-4454-bb81-239a8f44cb38",
        "colab": {
          "base_uri": "https://localhost:8080/"
        }
      },
      "source": [
        "def iterativeInversion(arr) :\n",
        "  count = 0\n",
        "  for i in range(len(arr)) :\n",
        "    j=i+1\n",
        "    while j<len(arr) :\n",
        "      if j>i and arr[i]>arr[j] :\n",
        "        count+=1  \n",
        "      j+=1\n",
        "  return count\n",
        "arr = [4,2,6,1,7]\n",
        "print(iterativeInversion(arr))"
      ],
      "execution_count": 27,
      "outputs": [
        {
          "output_type": "stream",
          "text": [
            "4\n"
          ],
          "name": "stdout"
        }
      ]
    },
    {
      "cell_type": "markdown",
      "metadata": {
        "id": "U3UKdsPjTO3I"
      },
      "source": [
        "## Recursive Approach Using MergeSort"
      ]
    },
    {
      "cell_type": "code",
      "metadata": {
        "id": "nAQwAhrXTTTg"
      },
      "source": [
        ""
      ],
      "execution_count": null,
      "outputs": []
    }
  ]
}